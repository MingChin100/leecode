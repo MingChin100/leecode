{
  "nbformat": 4,
  "nbformat_minor": 0,
  "metadata": {
    "colab": {
      "name": "Binary Search.ipynb",
      "provenance": [],
      "authorship_tag": "ABX9TyNUVLWoUWNM7rkyQSqteAXa",
      "include_colab_link": true
    },
    "kernelspec": {
      "name": "python3",
      "display_name": "Python 3"
    }
  },
  "cells": [
    {
      "cell_type": "markdown",
      "metadata": {
        "id": "view-in-github",
        "colab_type": "text"
      },
      "source": [
        "<a href=\"https://colab.research.google.com/github/MingChin100/leecode/blob/master/Binary_Search.ipynb\" target=\"_parent\"><img src=\"https://colab.research.google.com/assets/colab-badge.svg\" alt=\"Open In Colab\"/></a>"
      ]
    },
    {
      "cell_type": "code",
      "metadata": {
        "id": "BTICwuCQirl_",
        "colab_type": "code",
        "colab": {}
      },
      "source": [
        "# 35. Search Insert Position\n",
        "# 暴力法: 線性搜索 O(n)\n",
        "# 解法: 利用已排序好的陣列，邊界: lo=0, up=l-1，取中間值 mi=(lo+up)/2\n",
        "# 比較nums[mi]和target的大小，反覆調整，直到兩者相等或交錯\n",
        "class Solution:\n",
        "  def searchInsert(self, nums: 'List[int]', target:'int') -> 'int':\n",
        "    lo, hi = 0, len(nums)-1\n",
        "    while lo < hi:\n",
        "      mi = (lo+hi)//2\n",
        "      if nums[mi] == target\n",
        "      return mi\n",
        "      elif nums[mi] > target:\n",
        "        hi = mi - 1\n",
        "      else:\n",
        "        lo = mi + 1\n",
        "    return lo\n"
      ],
      "execution_count": null,
      "outputs": []
    },
    {
      "cell_type": "code",
      "metadata": {
        "id": "TSgL-oCXnT9O",
        "colab_type": "code",
        "colab": {}
      },
      "source": [
        "# 278. First Bad Version\n",
        "# 令lo = 1, hi = n, mid = (hi+lo)//2\n",
        "# 如是bad version，檢查mid=1 or mid-1 非bad version的狀況， 回傳mid\n",
        "# 否則 hi = mid - 1\n",
        "# 如不是bad version， 令lo=mid+1，沒壞則回傳none\n",
        "class Solution:\n",
        "  def firstBadVersion(self, n):\n",
        "    lo, hi = 1, n\n",
        "    while lo <= hi:\n",
        "      mi = (lo+hi)//2\n",
        "      if isBadVersion(mi):\n",
        "        if mi == 1 or not isBadVersion(mi-1):\n",
        "          return mi\n",
        "        hi = mi - 1\n",
        "      else:\n",
        "        lo = mi + 1\n",
        "    return None\n"
      ],
      "execution_count": null,
      "outputs": []
    }
  ]
}