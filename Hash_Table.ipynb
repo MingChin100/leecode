{
  "nbformat": 4,
  "nbformat_minor": 0,
  "metadata": {
    "colab": {
      "name": "Hash_Table.ipynb",
      "provenance": [],
      "authorship_tag": "ABX9TyP6rALWeCqzMF9HPeGpMN+h",
      "include_colab_link": true
    },
    "kernelspec": {
      "name": "python3",
      "display_name": "Python 3"
    }
  },
  "cells": [
    {
      "cell_type": "markdown",
      "metadata": {
        "id": "view-in-github",
        "colab_type": "text"
      },
      "source": [
        "<a href=\"https://colab.research.google.com/github/MingChin100/leecode/blob/master/Hash_Table.ipynb\" target=\"_parent\"><img src=\"https://colab.research.google.com/assets/colab-badge.svg\" alt=\"Open In Colab\"/></a>"
      ]
    },
    {
      "cell_type": "code",
      "metadata": {
        "id": "8NHlPJ6XrkTA",
        "colab_type": "code",
        "colab": {}
      },
      "source": [
        "# Hash Table\n",
        "# 資料跟排序較無關係的時候\n",
        "# 無重複或重複狀態要統計次數時\n",
        "# 想在O(1)取得資料時"
      ],
      "execution_count": null,
      "outputs": []
    },
    {
      "cell_type": "code",
      "metadata": {
        "id": "FgziPcU_usZ4",
        "colab_type": "code",
        "colab": {}
      },
      "source": [
        "# 1. Two Sum\n",
        "# Brute Force -> O(n^2)\n",
        "class Solution:\n",
        "  def two_Sum(self, nums:'List[int]', target:'int') -> 'List[int]':\n",
        "    numMap = {}\n",
        "    for i in range(len(nums)):\n",
        "      if target - nums[i] in numMap:\n",
        "        return[numMap.get(target-nums[i]), i]\n",
        "      else:\n",
        "        numMap[nums[i]] = i\n"
      ],
      "execution_count": null,
      "outputs": []
    },
    {
      "cell_type": "code",
      "metadata": {
        "id": "o4P_o_EKyajt",
        "colab_type": "code",
        "colab": {}
      },
      "source": [
        "# 242. Valid Anagram\n",
        "# 先檢查字串是否相等\n",
        "# 依序將字母出現次數記數到dict\n",
        "# 預設=0, s+1, t-1, 直到=0\n",
        "class Solution:\n",
        "  def isAnagram(self, s:str, t:str) -> bool:\n",
        "    if len(s) != len(t): return False\n",
        "    cnt = {}\n",
        "    cnt[c] = cnt.get(c, 0) + 1\n",
        "    for c in cnt:\n",
        "      if c not in cnt or cnt[c] == 0:\n",
        "        return False\n",
        "      else:\n",
        "        cnt[c] -= 1\n",
        "    return True \n"
      ],
      "execution_count": null,
      "outputs": []
    }
  ]
}